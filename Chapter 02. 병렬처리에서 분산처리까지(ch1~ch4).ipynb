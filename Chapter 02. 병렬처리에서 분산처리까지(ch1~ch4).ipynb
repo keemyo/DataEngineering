{
 "cells": [
  {
   "cell_type": "markdown",
   "id": "b4cd3d31",
   "metadata": {},
   "source": [
    "# Chapter 02_01. 병렬처리와 분산처리"
   ]
  },
  {
   "cell_type": "markdown",
   "id": "bf0987e0",
   "metadata": {},
   "source": [
    "### 병렬처리(Parallel)\n",
    "\n",
    "1. 데이터를 여러개로 쪼개고\n",
    "2. 여러 쓰레드에서 각자 task를 적용\n",
    "3. 각자 만든 결과값을 합치는 과정\n",
    "    \n",
    "    \n",
    "    \n",
    "    \n",
    "### 분산처리(Distributed)\n",
    "1. 데이터를 여러개로 쪼개서 여러 노드로 보낸다.\n",
    "2. 여러 노드에서 각자 독립적으로 task를 적용\n",
    "3. 각자 만든 결과값을 합치는 과정\n",
    "\n",
    "    - 노드간 통신같이 신경써야될 것이 늘어난다.\n",
    "    - Spark를 이용하면 분산된 환경에서도 일반적인 병렬처리를 하듯 코드를 짜는게 가능하다\n",
    "\n",
    "##### 어떻게 이게 가능할까?\n",
    "Spark는 분산된 환경에서 데이터 병렬 모델을 구현해 추상화 시켜주기 때문\n",
    "- Resiliend Distributed Datasets(RDD)\n",
    "- RDD.map(< t a s k >) \n",
    "\n",
    "그러나 생각없이 코드를 짜면 성능을 제대로 뽑을 수 없다\n",
    "- 노드간 통신 속도를 신경써야한다"
   ]
  },
  {
   "cell_type": "markdown",
   "id": "936effc9",
   "metadata": {},
   "source": [
    "# Chapter02_02. 분산처리와 Latency_1\n"
   ]
  },
  {
   "cell_type": "markdown",
   "id": "d0a79145",
   "metadata": {},
   "source": [
    "### 분산처리로 넘어가면서 신경써야될 문제가 많아졌다.\n",
    "1. 부분 실패: 노드 몇개가 프로그램과 상관 없는 이유로 인해 실패\n",
    "2. 속도: 많은 네트워크 통신을 필요로 하는 작업은 속도가 저하\n",
    "    - RDD.map(A).filter(B).reduceByKey(C).take(100)\n",
    "    - RDD.map(A).reduceByKey(C).filter(B).take(100)\n",
    "        - 어디가 빠르게?\n",
    "        - 첫 번쨰가 훨씬 빠르다. 필터로 줄인 다음 ReduceByKey\n",
    "\n",
    "\n"
   ]
  },
  {
   "cell_type": "markdown",
   "id": "2f7d64b0",
   "metadata": {},
   "source": [
    "# Chapter02_03. Key-Value RDD"
   ]
  },
  {
   "cell_type": "markdown",
   "id": "644224a0",
   "metadata": {},
   "source": [
    "### 1. Structured Data와 RDD\n",
    "Key와 Value 쌍을 갖는 Key-value RDD\n",
    "- (key, Value) 쌍을 갖기 때문에 pairs RDD라고도 불림\n",
    "- 간단한 데이터베이스처럼 다룰 수 있다.\n",
    "\n",
    "### 2. Key-Value RDD Concepts\n",
    "1. Single Value RDD\n",
    "- 간단하게 개수를 세거나 unstructured data를 다룬다.\n",
    "- 예) 텍스트에 등장하는 단어 수 세기(날짜)\n",
    "\n",
    "2. Key-Value RDD\n",
    "- Key를 통해 조금 더 고차원적인 연산을 다룬다.\n",
    "- 예) 넷플릭스 드라마가 받은 평균 별점(날짜, 승객수)\n",
    "\n",
    "3. Key와 Value 쌍을 가진다.\n",
    "    - 예) 지역ID별로 택시 운행 수는 어떻게 될까?\n",
    "        - Key: 지역 ID\n",
    "        - Value: 운행 수 \n",
    "    \n",
    "    - 다른 에)\n",
    "        - 드라마 별로 별점 수 모아보기, 평균 구하기\n",
    "        - 이커머스 사이트에서 상품당 별 평점 \n",
    "        \n",
    "4. 코드상으로는 많이 다르지 않다.\n",
    "- 두개의 값을 리턴하게 되면 Key-Value RDD가 된다.\n",
    "- pairs = rdd.map(lambda x: (x,[1,1]))\n",
    "    - [지역, 지역] => [(지역,[1,1]), (지역, [1,1])]\n",
    "\n",
    "### 3. Key Value RDD로 할 수 있는 것들(Redcution)\n",
    "- reduceByKey(): 키값을 기준으로 테스크 처리\n",
    "- groupByKey(): 키값을 기준으로 벨류를 묶는다\n",
    "- sortByKey(): 키값을 기준으로 정렬\n",
    "- keys() - 키값 추출\n",
    "- values() - 벨류값 추출\n",
    "\n",
    "$pairs = rdd.map(lambda x: (x,1))$\n",
    "\n",
    "$count = pairs.reduceByKey(lambda a,b: a + b)$\n",
    "\n",
    "예) [짜장면, 짜장면, 짬뽕, 짬뽕, 짜장면, 우동]\n",
    "- paris: (짜장면,1), (짜장면,1), (짬뽕,1), (짬뽕,1), (짜장면,1), (우동,1)\n",
    "- count: (짜장면,3), (짬뽕,2), (우동,1)\n",
    "\n",
    "### 4. Key Value RDD로 할 수 있는 것들(Join)\n",
    "- join \n",
    "- rightOuterJoin\n",
    "- LeftOuterJoin\n",
    "- subtractByKey\n",
    "\n",
    "### 5. Mapping Values\n",
    "1. Key Value 데이터에서 Key를 바꾸지 않는 경우\n",
    "    - map() 대신 value만 다루는 mapValues() 함수를 써주자.\n",
    "    - Spark 내부에서 파티션을 유지할 수 있어 더욱 효율적\n",
    "2. mapValues()\n",
    "3. flatmapValues()\n",
    "4. Value만 다루는 연산들이지만 RDD에서 Key는 유지된다.\n",
    " "
   ]
  },
  {
   "cell_type": "markdown",
   "id": "856c678f",
   "metadata": {},
   "source": [
    "### 6. 실습"
   ]
  },
  {
   "cell_type": "code",
   "execution_count": 1,
   "id": "dfd8c26d",
   "metadata": {},
   "outputs": [],
   "source": [
    "from pyspark import SparkConf, SparkContext"
   ]
  },
  {
   "cell_type": "code",
   "execution_count": 2,
   "id": "be90842d",
   "metadata": {},
   "outputs": [
    {
     "name": "stdout",
     "output_type": "stream",
     "text": [
      "23/01/23 14:20:22 WARN Utils: Your hostname, Keemyoui-MacBookPro.local resolves to a loopback address: 127.0.0.1; using 192.168.35.79 instead (on interface en0)\n",
      "23/01/23 14:20:22 WARN Utils: Set SPARK_LOCAL_IP if you need to bind to another address\n"
     ]
    },
    {
     "name": "stderr",
     "output_type": "stream",
     "text": [
      "Setting default log level to \"WARN\".\n",
      "To adjust logging level use sc.setLogLevel(newLevel). For SparkR, use setLogLevel(newLevel).\n"
     ]
    },
    {
     "name": "stdout",
     "output_type": "stream",
     "text": [
      "23/01/23 14:20:22 WARN NativeCodeLoader: Unable to load native-hadoop library for your platform... using builtin-java classes where applicable\n",
      "23/01/23 14:20:23 WARN Utils: Service 'SparkUI' could not bind on port 4040. Attempting port 4041.\n",
      "23/01/23 14:20:23 WARN Utils: Service 'SparkUI' could not bind on port 4041. Attempting port 4042.\n"
     ]
    }
   ],
   "source": [
    "conf = SparkConf().setMaster('local').setAppName('category-review-average')\n",
    "sc = SparkContext(conf=conf)"
   ]
  },
  {
   "cell_type": "code",
   "execution_count": 4,
   "id": "f7784d67",
   "metadata": {},
   "outputs": [],
   "source": [
    "directory = '/Users/keemyohaan/Desktop/001.Python/004. Study/009.FastCampus/003.DE/01-spark/data'\n",
    "filename = 'restaurant_reviews.csv'"
   ]
  },
  {
   "cell_type": "code",
   "execution_count": 5,
   "id": "75648592",
   "metadata": {},
   "outputs": [
    {
     "data": {
      "text/plain": [
       "['id,item,cateogry,reviews',\n",
       " '0,짜장면,중식,125',\n",
       " '1,짬뽕,중식,235,',\n",
       " '2,김밥,분식,32',\n",
       " '3,떡볶이,분식,534',\n",
       " '4,라멘,일식,223   ',\n",
       " '5,돈가스,일식,52',\n",
       " '6,우동,일식,12',\n",
       " '7,쌀국수,아시안,312',\n",
       " '8,햄버거,패스트푸드,12',\n",
       " '9,치킨,패스트푸드,23']"
      ]
     },
     "execution_count": 5,
     "metadata": {},
     "output_type": "execute_result"
    }
   ],
   "source": [
    "# RDD는 action이 불리기 전까지는 연산되지 않는다.\n",
    "lines = sc.textFile(f'file:///{directory}/{filename}')\n",
    "# collect()라는 간단한 action 실행\n",
    "lines.collect()"
   ]
  },
  {
   "cell_type": "code",
   "execution_count": 6,
   "id": "4643f1a2",
   "metadata": {},
   "outputs": [
    {
     "name": "stderr",
     "output_type": "stream",
     "text": [
      "\r",
      "[Stage 1:>                                                          (0 + 1) / 1]\r",
      "\r",
      "                                                                                \r"
     ]
    },
    {
     "data": {
      "text/plain": [
       "['0,짜장면,중식,125',\n",
       " '1,짬뽕,중식,235,',\n",
       " '2,김밥,분식,32',\n",
       " '3,떡볶이,분식,534',\n",
       " '4,라멘,일식,223   ',\n",
       " '5,돈가스,일식,52',\n",
       " '6,우동,일식,12',\n",
       " '7,쌀국수,아시안,312',\n",
       " '8,햄버거,패스트푸드,12',\n",
       " '9,치킨,패스트푸드,23']"
      ]
     },
     "execution_count": 6,
     "metadata": {},
     "output_type": "execute_result"
    }
   ],
   "source": [
    "# header부터 추출\n",
    "header = lines.first()\n",
    "# 필터링 \n",
    "filtered_lines = lines.filter(lambda row: row != header)\n",
    "filtered_lines.collect()"
   ]
  },
  {
   "cell_type": "code",
   "execution_count": 7,
   "id": "7d55a747",
   "metadata": {},
   "outputs": [
    {
     "data": {
      "text/plain": [
       "[('중식', 125),\n",
       " ('중식', 235),\n",
       " ('분식', 32),\n",
       " ('분식', 534),\n",
       " ('일식', 223),\n",
       " ('일식', 52),\n",
       " ('일식', 12),\n",
       " ('아시안', 312),\n",
       " ('패스트푸드', 12),\n",
       " ('패스트푸드', 23)]"
      ]
     },
     "execution_count": 7,
     "metadata": {},
     "output_type": "execute_result"
    }
   ],
   "source": [
    "# 카테고리와 리뷰데이터를 파싱하겠다.\n",
    "def parse(row):\n",
    "    #'0,짜장면,중식,125'\n",
    "    fields = row.split(\",\")\n",
    "    category = fields[2]\n",
    "    reviews = int(fields[3])\n",
    "    return (category, reviews)\n",
    "\n",
    "# Key value RDD 만들기\n",
    "categoryReviews = filtered_lines.map(parse)\n",
    "categoryReviews.collect()   "
   ]
  },
  {
   "cell_type": "code",
   "execution_count": 8,
   "id": "094b812e",
   "metadata": {},
   "outputs": [
    {
     "data": {
      "text/plain": [
       "[('중식', (125, 1)),\n",
       " ('중식', (235, 1)),\n",
       " ('분식', (32, 1)),\n",
       " ('분식', (534, 1)),\n",
       " ('일식', (223, 1)),\n",
       " ('일식', (52, 1)),\n",
       " ('일식', (12, 1)),\n",
       " ('아시안', (312, 1)),\n",
       " ('패스트푸드', (12, 1)),\n",
       " ('패스트푸드', (23, 1))]"
      ]
     },
     "execution_count": 8,
     "metadata": {},
     "output_type": "execute_result"
    }
   ],
   "source": [
    "# 카테고리 뒤 값을 Value라고 인식함 => lambda를 적용하는건 value에 해당\n",
    "categoryReviewsCount = categoryReviews.mapValues(lambda x: (x,1))\n",
    "categoryReviewsCount.collect()"
   ]
  },
  {
   "cell_type": "code",
   "execution_count": 15,
   "id": "6fe8edda",
   "metadata": {},
   "outputs": [
    {
     "data": {
      "text/plain": [
       "[('중식', (360, 2)),\n",
       " ('분식', (566, 2)),\n",
       " ('일식', (287, 3)),\n",
       " ('아시안', (312, 1)),\n",
       " ('패스트푸드', (35, 2))]"
      ]
     },
     "execution_count": 15,
     "metadata": {},
     "output_type": "execute_result"
    }
   ],
   "source": [
    "# key를 기준으로 연산을 치는군 => reduceByKey\n",
    "# value(x), value(y)를 기준으로 연산\n",
    "reduced = categoryReviewsCount.reduceByKey(lambda x,y: (x[0] + y[0], x[1]+ y[1]))\n",
    "reduced.collect()"
   ]
  },
  {
   "cell_type": "code",
   "execution_count": 16,
   "id": "9a24f375",
   "metadata": {},
   "outputs": [
    {
     "data": {
      "text/plain": [
       "[('중식', 180.0),\n",
       " ('분식', 283.0),\n",
       " ('일식', 95.66666666666667),\n",
       " ('아시안', 312.0),\n",
       " ('패스트푸드', 17.5)]"
      ]
     },
     "execution_count": 16,
     "metadata": {},
     "output_type": "execute_result"
    }
   ],
   "source": [
    "averages = reduced.mapValues(lambda x: x[0] / x[1])\n",
    "averages.collect()"
   ]
  },
  {
   "cell_type": "markdown",
   "id": "805236f1",
   "metadata": {},
   "source": [
    "# Chapter02_04. Transformations and Actions"
   ]
  },
  {
   "cell_type": "markdown",
   "id": "a17a26c6",
   "metadata": {},
   "source": [
    "### 1. Spark Opereation은 두가지로 나뉠 수 있다.\n",
    "Spark Operation = Transformations + Actions\n",
    "\n",
    "### 2. Transformations & Actions\n",
    "1. Transformations\n",
    "    - 결과값으로 새로운 RDD를 반환\n",
    "    - 지연실행 - Lazy Execution\n",
    "2. Actions\n",
    "    - 결과값을 연산하여 출력하거나 저장\n",
    "    - 즉시 실행 - Eager Execution\n",
    "    \n",
    "||Transformations|Actions|\n",
    "|:--:|:--:|:--:|\n",
    "|1|map()|collect()|\n",
    "|2|flatMap()|cout()|\n",
    "|3|filter()|countByValue()|\n",
    "|4|distinct()|take()|\n",
    "|5|reduceByKey()|top()|\n",
    "|6|groupByKey()|reduce()|\n",
    "|7|mapValues()|fold()|\n",
    "|8|flatMapValues()|foreach()|\n",
    "|9|sotByKey()|-|"
   ]
  },
  {
   "cell_type": "markdown",
   "id": "430f1314",
   "metadata": {},
   "source": [
    "### 3. 실습: rdd_transformations_actions"
   ]
  },
  {
   "cell_type": "code",
   "execution_count": 21,
   "id": "f4f40abd",
   "metadata": {},
   "outputs": [
    {
     "data": {
      "text/plain": [
       "[('spark.master', 'local'),\n",
       " ('spark.app.submitTime', '1674451222400'),\n",
       " ('spark.driver.extraJavaOptions',\n",
       "  '-XX:+IgnoreUnrecognizedVMOptions --add-opens=java.base/java.lang=ALL-UNNAMED --add-opens=java.base/java.lang.invoke=ALL-UNNAMED --add-opens=java.base/java.lang.reflect=ALL-UNNAMED --add-opens=java.base/java.io=ALL-UNNAMED --add-opens=java.base/java.net=ALL-UNNAMED --add-opens=java.base/java.nio=ALL-UNNAMED --add-opens=java.base/java.util=ALL-UNNAMED --add-opens=java.base/java.util.concurrent=ALL-UNNAMED --add-opens=java.base/java.util.concurrent.atomic=ALL-UNNAMED --add-opens=java.base/sun.nio.ch=ALL-UNNAMED --add-opens=java.base/sun.nio.cs=ALL-UNNAMED --add-opens=java.base/sun.security.action=ALL-UNNAMED --add-opens=java.base/sun.util.calendar=ALL-UNNAMED --add-opens=java.security.jgss/sun.security.krb5=ALL-UNNAMED'),\n",
       " ('spark.app.startTime', '1674451222586'),\n",
       " ('spark.app.name', 'category-review-average'),\n",
       " ('spark.app.id', 'local-1674451223334'),\n",
       " ('spark.executor.id', 'driver'),\n",
       " ('spark.driver.port', '56438'),\n",
       " ('spark.driver.host', '192.168.35.79'),\n",
       " ('spark.rdd.compress', 'True'),\n",
       " ('spark.executor.extraJavaOptions',\n",
       "  '-XX:+IgnoreUnrecognizedVMOptions --add-opens=java.base/java.lang=ALL-UNNAMED --add-opens=java.base/java.lang.invoke=ALL-UNNAMED --add-opens=java.base/java.lang.reflect=ALL-UNNAMED --add-opens=java.base/java.io=ALL-UNNAMED --add-opens=java.base/java.net=ALL-UNNAMED --add-opens=java.base/java.nio=ALL-UNNAMED --add-opens=java.base/java.util=ALL-UNNAMED --add-opens=java.base/java.util.concurrent=ALL-UNNAMED --add-opens=java.base/java.util.concurrent.atomic=ALL-UNNAMED --add-opens=java.base/sun.nio.ch=ALL-UNNAMED --add-opens=java.base/sun.nio.cs=ALL-UNNAMED --add-opens=java.base/sun.security.action=ALL-UNNAMED --add-opens=java.base/sun.util.calendar=ALL-UNNAMED --add-opens=java.security.jgss/sun.security.krb5=ALL-UNNAMED'),\n",
       " ('spark.serializer.objectStreamReset', '100'),\n",
       " ('spark.submit.pyFiles', ''),\n",
       " ('spark.submit.deployMode', 'client'),\n",
       " ('spark.ui.showConsoleProgress', 'true')]"
      ]
     },
     "execution_count": 21,
     "metadata": {},
     "output_type": "execute_result"
    }
   ],
   "source": [
    "from pyspark import SparkConf, SparkContext\n",
    "conf = SparkConf().setMaster('local').setAppName('transformations_actions')\n",
    "sc = SparkContext.getOrCreate(conf =conf)\n",
    "sc.getConf().getAll()"
   ]
  },
  {
   "cell_type": "code",
   "execution_count": 22,
   "id": "70a1f80d",
   "metadata": {},
   "outputs": [],
   "source": [
    "# sparkcontext 멈추기\n",
    "sc.stop()"
   ]
  },
  {
   "cell_type": "code",
   "execution_count": 24,
   "id": "ab30dd17",
   "metadata": {},
   "outputs": [
    {
     "name": "stdout",
     "output_type": "stream",
     "text": [
      "23/01/23 20:10:26 WARN Utils: Service 'SparkUI' could not bind on port 4040. Attempting port 4041.\n",
      "23/01/23 20:10:26 WARN Utils: Service 'SparkUI' could not bind on port 4041. Attempting port 4042.\n"
     ]
    }
   ],
   "source": [
    "# 있는 상태에서 또 만들면 에러가 난다.\n",
    "# 그러나 지정되지 않은 상태에서 호출하면 Nontype Error가 난다.\n",
    "sc = SparkContext(conf = conf)"
   ]
  },
  {
   "cell_type": "code",
   "execution_count": 27,
   "id": "6e192c93",
   "metadata": {},
   "outputs": [
    {
     "data": {
      "text/plain": [
       "ParallelCollectionRDD[1] at readRDDFromFile at PythonRDD.scala:274"
      ]
     },
     "execution_count": 27,
     "metadata": {},
     "output_type": "execute_result"
    }
   ],
   "source": [
    "# RDD 만들기\n",
    "### sc.parallelize: list로부터 RDD를 만든다\n",
    "foods = sc.parallelize(['짜장면','마라탕','짬뽕','떡볶이','쌀국수','짬뽕','짜장면','짜장면','짜장면','라면','우동','라면'])\n",
    "foods"
   ]
  },
  {
   "cell_type": "code",
   "execution_count": 28,
   "id": "456114ce",
   "metadata": {},
   "outputs": [
    {
     "data": {
      "text/plain": [
       "['짜장면', '마라탕', '짬뽕', '떡볶이', '쌀국수', '짬뽕', '짜장면', '짜장면', '짜장면', '라면', '우동', '라면']"
      ]
     },
     "execution_count": 28,
     "metadata": {},
     "output_type": "execute_result"
    }
   ],
   "source": [
    "# collect: RDD안에 있는 값을 확인할 때 => 값을 모두 가져온다.\n",
    "foods.collect()"
   ]
  },
  {
   "cell_type": "code",
   "execution_count": 29,
   "id": "6bf31711",
   "metadata": {},
   "outputs": [
    {
     "name": "stderr",
     "output_type": "stream",
     "text": [
      "\r",
      "[Stage 1:>                                                          (0 + 1) / 1]\r",
      "\r",
      "                                                                                \r"
     ]
    },
    {
     "data": {
      "text/plain": [
       "defaultdict(int,\n",
       "            {'짜장면': 4,\n",
       "             '마라탕': 1,\n",
       "             '짬뽕': 2,\n",
       "             '떡볶이': 1,\n",
       "             '쌀국수': 1,\n",
       "             '라면': 2,\n",
       "             '우동': 1})"
      ]
     },
     "execution_count": 29,
     "metadata": {},
     "output_type": "execute_result"
    }
   ],
   "source": [
    "# countbyValue: 몇개 ?\n",
    "foods.countByValue()"
   ]
  },
  {
   "cell_type": "code",
   "execution_count": 30,
   "id": "8e07f652",
   "metadata": {},
   "outputs": [
    {
     "data": {
      "text/plain": [
       "['짜장면', '마라탕', '짬뽕']"
      ]
     },
     "execution_count": 30,
     "metadata": {},
     "output_type": "execute_result"
    }
   ],
   "source": [
    "# take: N개의 element를 뽑고 싶을 때\n",
    "foods.take(3)"
   ]
  },
  {
   "cell_type": "code",
   "execution_count": 31,
   "id": "24986232",
   "metadata": {},
   "outputs": [
    {
     "data": {
      "text/plain": [
       "'짜장면'"
      ]
     },
     "execution_count": 31,
     "metadata": {},
     "output_type": "execute_result"
    }
   ],
   "source": [
    "# first: 첫 번째 것을 보고싶다\n",
    "foods.first()"
   ]
  },
  {
   "cell_type": "code",
   "execution_count": 32,
   "id": "8dc55409",
   "metadata": {},
   "outputs": [
    {
     "data": {
      "text/plain": [
       "12"
      ]
     },
     "execution_count": 32,
     "metadata": {},
     "output_type": "execute_result"
    }
   ],
   "source": [
    "# count: element가 총 몇개인지\n",
    "foods.count()"
   ]
  },
  {
   "cell_type": "code",
   "execution_count": 33,
   "id": "2e1848bc",
   "metadata": {},
   "outputs": [
    {
     "data": {
      "text/plain": [
       "['짜장면', '마라탕', '짬뽕', '떡볶이', '쌀국수', '라면', '우동']"
      ]
     },
     "execution_count": 33,
     "metadata": {},
     "output_type": "execute_result"
    }
   ],
   "source": [
    "# distinct: 중복제거\n",
    "foods.distinct().collect()"
   ]
  },
  {
   "cell_type": "code",
   "execution_count": 34,
   "id": "d75851c8",
   "metadata": {},
   "outputs": [
    {
     "data": {
      "text/plain": [
       "7"
      ]
     },
     "execution_count": 34,
     "metadata": {},
     "output_type": "execute_result"
    }
   ],
   "source": [
    "foods.distinct().count()"
   ]
  },
  {
   "cell_type": "code",
   "execution_count": 37,
   "id": "ea4ac8fd",
   "metadata": {},
   "outputs": [
    {
     "name": "stderr",
     "output_type": "stream",
     "text": [
      "짜장면\n",
      "마라탕\n",
      "짬뽕\n",
      "떡볶이\n",
      "쌀국수\n",
      "짬뽕\n",
      "짜장면\n",
      "짜장면\n",
      "짜장면\n",
      "라면\n",
      "우동\n",
      "라면\n"
     ]
    }
   ],
   "source": [
    "# foreach: 요소를 하나하나 꺼내서 하나의 함수를 적용 + 값을 리턴하지 않고, \n",
    "foods.foreach(lambda x: print(x))"
   ]
  },
  {
   "cell_type": "markdown",
   "id": "262709e2",
   "metadata": {},
   "source": [
    "### 4. transformations\n",
    "$Transformations = Narrow + Wide $ \n",
    "\n",
    "##### 4-1. Narrow Transformation\n",
    "- 1:1 변환\n",
    "- filter(), map(), flatMap(), sample(), union()\n",
    "- 1열을 조작하기 위해 다른 열/파티션의 데이터를 쓸 필요가 없다.\n",
    "- 정렬이 필요하지 않은 경우\n",
    "\n",
    "##### 4-2. Wide Transformation\n",
    "- Shuffling\n",
    "- Intersection and join, distinct cartesian, reduceByKey(), groupBykey()\n",
    "- 아웃풋 RDD의 파티션에 다른 파티션의 데이터가 들어갈 수 있다"
   ]
  },
  {
   "cell_type": "markdown",
   "id": "3149c7b2",
   "metadata": {},
   "source": [
    "##### 4-3. Transformations 코드\n",
    "- Transforms 아웃풋은 RDD, \n",
    "- 프로그램이 Transforms를 만날 때 바로 새로운 RDD를 만들지 않고 새로운 RDD는 actions를 만나서 실행될 때 생성\n",
    "- 프로그램이 코드를 보다가 Transforms를 만나면 신택스 체크후 이 연산을 해야겠군 기억하고 넘어감\n",
    "- Trnasformations를 여러번 거칠 때, 순서대로 변환과정을 기억하면서 하나의 Dag(Directred Acyclic Graph)를 생성함"
   ]
  },
  {
   "cell_type": "code",
   "execution_count": 39,
   "id": "86fd1f47",
   "metadata": {},
   "outputs": [
    {
     "data": {
      "text/plain": [
       "[3, 4, 5]"
      ]
     },
     "execution_count": 39,
     "metadata": {},
     "output_type": "execute_result"
    }
   ],
   "source": [
    "# 새로운 RDD를 만든것은 아니고 기억을 해둔 것\n",
    "sc.parallelize([1,2,3]).map(lambda x: x+2).collect()"
   ]
  },
  {
   "cell_type": "code",
   "execution_count": 40,
   "id": "6b0830b1",
   "metadata": {},
   "outputs": [
    {
     "data": {
      "text/plain": [
       "[2, 4, 6]"
      ]
     },
     "execution_count": 40,
     "metadata": {},
     "output_type": "execute_result"
    }
   ],
   "source": [
    "sc.parallelize([1,2,3]).map(lambda x: x*2).collect()"
   ]
  },
  {
   "cell_type": "code",
   "execution_count": 41,
   "id": "5bfc18b1",
   "metadata": {},
   "outputs": [],
   "source": [
    "moviews = [\n",
    "    '그린 북',\n",
    "    '매트릭스',\n",
    "    '토이 스토리',\n",
    "    '캐스트 어웨이',\n",
    "    '포드 VS 페라리',\n",
    "    '보헤미안 랩소디',\n",
    "    '빽 투 더 퓨쳐',\n",
    "    '반지의 제왕',\n",
    "    '죽은 시인의 사회'\n",
    "]"
   ]
  },
  {
   "cell_type": "code",
   "execution_count": null,
   "id": "b6e6efb3",
   "metadata": {},
   "outputs": [],
   "source": []
  }
 ],
 "metadata": {
  "kernelspec": {
   "display_name": "Python 3 (ipykernel)",
   "language": "python",
   "name": "python3"
  },
  "language_info": {
   "codemirror_mode": {
    "name": "ipython",
    "version": 3
   },
   "file_extension": ".py",
   "mimetype": "text/x-python",
   "name": "python",
   "nbconvert_exporter": "python",
   "pygments_lexer": "ipython3",
   "version": "3.10.8"
  }
 },
 "nbformat": 4,
 "nbformat_minor": 5
}
